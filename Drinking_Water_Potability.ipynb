{
 "cells": [
  {
   "cell_type": "code",
   "execution_count": 1,
   "metadata": {
    "colab": {
     "base_uri": "https://localhost:8080/"
    },
    "id": "MOIrjbddm2rG",
    "outputId": "bf1d271c-e3e3-481e-fafd-2429193e76cc"
   },
   "outputs": [],
   "source": [
    "#pip install catboost"
   ]
  },
  {
   "cell_type": "code",
   "execution_count": 2,
   "metadata": {},
   "outputs": [
    {
     "name": "stdout",
     "output_type": "stream",
     "text": [
      "Requirement already satisfied: lightgbm in c:\\users\\gbadegesin muhammed\\anaconda2\\envs\\py3_env\\lib\\site-packages (3.3.1)\n",
      "Requirement already satisfied: numpy in c:\\users\\gbadegesin muhammed\\anaconda2\\envs\\py3_env\\lib\\site-packages (from lightgbm) (1.18.5)\n",
      "Requirement already satisfied: scikit-learn!=0.22.0 in c:\\users\\gbadegesin muhammed\\anaconda2\\envs\\py3_env\\lib\\site-packages (from lightgbm) (0.24.2)\n",
      "Requirement already satisfied: scipy in c:\\users\\gbadegesin muhammed\\anaconda2\\envs\\py3_env\\lib\\site-packages (from lightgbm) (1.4.1)\n",
      "Requirement already satisfied: wheel in c:\\users\\gbadegesin muhammed\\anaconda2\\envs\\py3_env\\lib\\site-packages (from lightgbm) (0.36.2)\n",
      "Requirement already satisfied: threadpoolctl>=2.0.0 in c:\\users\\gbadegesin muhammed\\anaconda2\\envs\\py3_env\\lib\\site-packages (from scikit-learn!=0.22.0->lightgbm) (2.1.0)\n",
      "Requirement already satisfied: joblib>=0.11 in c:\\users\\gbadegesin muhammed\\anaconda2\\envs\\py3_env\\lib\\site-packages (from scikit-learn!=0.22.0->lightgbm) (1.0.1)\n"
     ]
    }
   ],
   "source": [
    "!pip install lightgbm"
   ]
  },
  {
   "cell_type": "code",
   "execution_count": 3,
   "metadata": {
    "id": "oewgY27wZ3Sb"
   },
   "outputs": [],
   "source": [
    "import pandas as pd\n",
    "import numpy as np\n",
    "import matplotlib.pyplot as plt\n",
    "from sklearn.model_selection import train_test_split,cross_val_score, KFold\n",
    "from sklearn.preprocessing import StandardScaler\n",
    "from sklearn.linear_model import LogisticRegression\n",
    "from sklearn.metrics import f1_score\n",
    "from lightgbm import LGBMClassifier\n",
    "import pickle\n",
    "from sklearn.ensemble import RandomForestClassifier,GradientBoostingClassifier, AdaBoostClassifier\n",
    "from catboost import CatBoostClassifier\n",
    "from sklearn.model_selection import GridSearchCV\n",
    "from sklearn.tree import DecisionTreeClassifier"
   ]
  },
  {
   "cell_type": "code",
   "execution_count": 4,
   "metadata": {
    "colab": {
     "base_uri": "https://localhost:8080/",
     "height": 206
    },
    "id": "uYc8SxQqaDow",
    "outputId": "7ba9a658-1cef-4b9f-8f61-d29a74ac0d5a"
   },
   "outputs": [
    {
     "data": {
      "text/html": [
       "<div>\n",
       "<style scoped>\n",
       "    .dataframe tbody tr th:only-of-type {\n",
       "        vertical-align: middle;\n",
       "    }\n",
       "\n",
       "    .dataframe tbody tr th {\n",
       "        vertical-align: top;\n",
       "    }\n",
       "\n",
       "    .dataframe thead th {\n",
       "        text-align: right;\n",
       "    }\n",
       "</style>\n",
       "<table border=\"1\" class=\"dataframe\">\n",
       "  <thead>\n",
       "    <tr style=\"text-align: right;\">\n",
       "      <th></th>\n",
       "      <th>ph</th>\n",
       "      <th>Hardness</th>\n",
       "      <th>Solids</th>\n",
       "      <th>Chloramines</th>\n",
       "      <th>Sulfate</th>\n",
       "      <th>Conductivity</th>\n",
       "      <th>Organic_carbon</th>\n",
       "      <th>Trihalomethanes</th>\n",
       "      <th>Turbidity</th>\n",
       "      <th>Potability</th>\n",
       "    </tr>\n",
       "  </thead>\n",
       "  <tbody>\n",
       "    <tr>\n",
       "      <th>0</th>\n",
       "      <td>NaN</td>\n",
       "      <td>204.890456</td>\n",
       "      <td>20791.31898</td>\n",
       "      <td>7.300212</td>\n",
       "      <td>368.516441</td>\n",
       "      <td>564.308654</td>\n",
       "      <td>10.379783</td>\n",
       "      <td>86.990970</td>\n",
       "      <td>2.963135</td>\n",
       "      <td>0</td>\n",
       "    </tr>\n",
       "    <tr>\n",
       "      <th>1</th>\n",
       "      <td>3.716080</td>\n",
       "      <td>129.422921</td>\n",
       "      <td>18630.05786</td>\n",
       "      <td>6.635246</td>\n",
       "      <td>NaN</td>\n",
       "      <td>592.885359</td>\n",
       "      <td>15.180013</td>\n",
       "      <td>56.329076</td>\n",
       "      <td>4.500656</td>\n",
       "      <td>0</td>\n",
       "    </tr>\n",
       "    <tr>\n",
       "      <th>2</th>\n",
       "      <td>8.099124</td>\n",
       "      <td>224.236259</td>\n",
       "      <td>19909.54173</td>\n",
       "      <td>9.275884</td>\n",
       "      <td>NaN</td>\n",
       "      <td>418.606213</td>\n",
       "      <td>16.868637</td>\n",
       "      <td>66.420093</td>\n",
       "      <td>3.055934</td>\n",
       "      <td>0</td>\n",
       "    </tr>\n",
       "    <tr>\n",
       "      <th>3</th>\n",
       "      <td>8.316766</td>\n",
       "      <td>214.373394</td>\n",
       "      <td>22018.41744</td>\n",
       "      <td>8.059332</td>\n",
       "      <td>356.886136</td>\n",
       "      <td>363.266516</td>\n",
       "      <td>18.436525</td>\n",
       "      <td>100.341674</td>\n",
       "      <td>4.628771</td>\n",
       "      <td>0</td>\n",
       "    </tr>\n",
       "    <tr>\n",
       "      <th>4</th>\n",
       "      <td>9.092223</td>\n",
       "      <td>181.101509</td>\n",
       "      <td>17978.98634</td>\n",
       "      <td>6.546600</td>\n",
       "      <td>310.135738</td>\n",
       "      <td>398.410813</td>\n",
       "      <td>11.558279</td>\n",
       "      <td>31.997993</td>\n",
       "      <td>4.075075</td>\n",
       "      <td>0</td>\n",
       "    </tr>\n",
       "  </tbody>\n",
       "</table>\n",
       "</div>"
      ],
      "text/plain": [
       "         ph    Hardness       Solids  Chloramines     Sulfate  Conductivity  \\\n",
       "0       NaN  204.890456  20791.31898     7.300212  368.516441    564.308654   \n",
       "1  3.716080  129.422921  18630.05786     6.635246         NaN    592.885359   \n",
       "2  8.099124  224.236259  19909.54173     9.275884         NaN    418.606213   \n",
       "3  8.316766  214.373394  22018.41744     8.059332  356.886136    363.266516   \n",
       "4  9.092223  181.101509  17978.98634     6.546600  310.135738    398.410813   \n",
       "\n",
       "   Organic_carbon  Trihalomethanes  Turbidity  Potability  \n",
       "0       10.379783        86.990970   2.963135           0  \n",
       "1       15.180013        56.329076   4.500656           0  \n",
       "2       16.868637        66.420093   3.055934           0  \n",
       "3       18.436525       100.341674   4.628771           0  \n",
       "4       11.558279        31.997993   4.075075           0  "
      ]
     },
     "execution_count": 4,
     "metadata": {},
     "output_type": "execute_result"
    }
   ],
   "source": [
    "url = 'https://raw.githubusercontent.com/Gmuhammed/Drinking_Water_Potability/main/drinking_water_potability.csv'\n",
    "df = pd.read_csv(url)\n",
    "df.head()"
   ]
  },
  {
   "cell_type": "code",
   "execution_count": 5,
   "metadata": {
    "colab": {
     "base_uri": "https://localhost:8080/"
    },
    "id": "lCLhVYyDaDuj",
    "outputId": "add03221-296c-4784-c005-e93206584ae7"
   },
   "outputs": [
    {
     "name": "stdout",
     "output_type": "stream",
     "text": [
      "<class 'pandas.core.frame.DataFrame'>\n",
      "RangeIndex: 3276 entries, 0 to 3275\n",
      "Data columns (total 10 columns):\n",
      " #   Column           Non-Null Count  Dtype  \n",
      "---  ------           --------------  -----  \n",
      " 0   ph               2785 non-null   float64\n",
      " 1   Hardness         3276 non-null   float64\n",
      " 2   Solids           3276 non-null   float64\n",
      " 3   Chloramines      3276 non-null   float64\n",
      " 4   Sulfate          2495 non-null   float64\n",
      " 5   Conductivity     3276 non-null   float64\n",
      " 6   Organic_carbon   3276 non-null   float64\n",
      " 7   Trihalomethanes  3114 non-null   float64\n",
      " 8   Turbidity        3276 non-null   float64\n",
      " 9   Potability       3276 non-null   int64  \n",
      "dtypes: float64(9), int64(1)\n",
      "memory usage: 256.1 KB\n"
     ]
    }
   ],
   "source": [
    "df.info()\n",
    "#dataset has only numerical values"
   ]
  },
  {
   "cell_type": "code",
   "execution_count": 6,
   "metadata": {
    "colab": {
     "base_uri": "https://localhost:8080/"
    },
    "id": "_clEMj5saD0A",
    "outputId": "5adf1eb1-f430-40a1-9fe8-c31bcfe13f13"
   },
   "outputs": [
    {
     "data": {
      "text/plain": [
       "ph                 491\n",
       "Hardness             0\n",
       "Solids               0\n",
       "Chloramines          0\n",
       "Sulfate            781\n",
       "Conductivity         0\n",
       "Organic_carbon       0\n",
       "Trihalomethanes    162\n",
       "Turbidity            0\n",
       "Potability           0\n",
       "dtype: int64"
      ]
     },
     "execution_count": 6,
     "metadata": {},
     "output_type": "execute_result"
    }
   ],
   "source": [
    "df.isna().sum()\n",
    "#missing values in ph,Sulfate,Trihalomethanes"
   ]
  },
  {
   "cell_type": "code",
   "execution_count": 7,
   "metadata": {
    "colab": {
     "base_uri": "https://localhost:8080/",
     "height": 300
    },
    "id": "2TaTiqG4fUhE",
    "outputId": "9fe3a9fe-0464-48a4-d41f-e0ebbd89bfd1"
   },
   "outputs": [
    {
     "data": {
      "text/html": [
       "<div>\n",
       "<style scoped>\n",
       "    .dataframe tbody tr th:only-of-type {\n",
       "        vertical-align: middle;\n",
       "    }\n",
       "\n",
       "    .dataframe tbody tr th {\n",
       "        vertical-align: top;\n",
       "    }\n",
       "\n",
       "    .dataframe thead th {\n",
       "        text-align: right;\n",
       "    }\n",
       "</style>\n",
       "<table border=\"1\" class=\"dataframe\">\n",
       "  <thead>\n",
       "    <tr style=\"text-align: right;\">\n",
       "      <th></th>\n",
       "      <th>ph</th>\n",
       "      <th>Hardness</th>\n",
       "      <th>Solids</th>\n",
       "      <th>Chloramines</th>\n",
       "      <th>Sulfate</th>\n",
       "      <th>Conductivity</th>\n",
       "      <th>Organic_carbon</th>\n",
       "      <th>Trihalomethanes</th>\n",
       "      <th>Turbidity</th>\n",
       "      <th>Potability</th>\n",
       "    </tr>\n",
       "  </thead>\n",
       "  <tbody>\n",
       "    <tr>\n",
       "      <th>count</th>\n",
       "      <td>2785.000000</td>\n",
       "      <td>3276.000000</td>\n",
       "      <td>3276.000000</td>\n",
       "      <td>3276.000000</td>\n",
       "      <td>2495.000000</td>\n",
       "      <td>3276.000000</td>\n",
       "      <td>3276.000000</td>\n",
       "      <td>3114.000000</td>\n",
       "      <td>3276.000000</td>\n",
       "      <td>3276.000000</td>\n",
       "    </tr>\n",
       "    <tr>\n",
       "      <th>mean</th>\n",
       "      <td>7.080795</td>\n",
       "      <td>196.369496</td>\n",
       "      <td>22014.092526</td>\n",
       "      <td>7.122277</td>\n",
       "      <td>333.775777</td>\n",
       "      <td>426.205111</td>\n",
       "      <td>14.284970</td>\n",
       "      <td>66.396293</td>\n",
       "      <td>3.966786</td>\n",
       "      <td>0.390110</td>\n",
       "    </tr>\n",
       "    <tr>\n",
       "      <th>std</th>\n",
       "      <td>1.594320</td>\n",
       "      <td>32.879761</td>\n",
       "      <td>8768.570828</td>\n",
       "      <td>1.583085</td>\n",
       "      <td>41.416840</td>\n",
       "      <td>80.824064</td>\n",
       "      <td>3.308162</td>\n",
       "      <td>16.175008</td>\n",
       "      <td>0.780382</td>\n",
       "      <td>0.487849</td>\n",
       "    </tr>\n",
       "    <tr>\n",
       "      <th>min</th>\n",
       "      <td>0.000000</td>\n",
       "      <td>47.432000</td>\n",
       "      <td>320.942611</td>\n",
       "      <td>0.352000</td>\n",
       "      <td>129.000000</td>\n",
       "      <td>181.483754</td>\n",
       "      <td>2.200000</td>\n",
       "      <td>0.738000</td>\n",
       "      <td>1.450000</td>\n",
       "      <td>0.000000</td>\n",
       "    </tr>\n",
       "    <tr>\n",
       "      <th>25%</th>\n",
       "      <td>6.093092</td>\n",
       "      <td>176.850538</td>\n",
       "      <td>15666.690300</td>\n",
       "      <td>6.127421</td>\n",
       "      <td>307.699498</td>\n",
       "      <td>365.734414</td>\n",
       "      <td>12.065801</td>\n",
       "      <td>55.844536</td>\n",
       "      <td>3.439711</td>\n",
       "      <td>0.000000</td>\n",
       "    </tr>\n",
       "    <tr>\n",
       "      <th>50%</th>\n",
       "      <td>7.036752</td>\n",
       "      <td>196.967627</td>\n",
       "      <td>20927.833605</td>\n",
       "      <td>7.130299</td>\n",
       "      <td>333.073546</td>\n",
       "      <td>421.884968</td>\n",
       "      <td>14.218338</td>\n",
       "      <td>66.622485</td>\n",
       "      <td>3.955028</td>\n",
       "      <td>0.000000</td>\n",
       "    </tr>\n",
       "    <tr>\n",
       "      <th>75%</th>\n",
       "      <td>8.062066</td>\n",
       "      <td>216.667456</td>\n",
       "      <td>27332.762125</td>\n",
       "      <td>8.114887</td>\n",
       "      <td>359.950170</td>\n",
       "      <td>481.792305</td>\n",
       "      <td>16.557652</td>\n",
       "      <td>77.337473</td>\n",
       "      <td>4.500320</td>\n",
       "      <td>1.000000</td>\n",
       "    </tr>\n",
       "    <tr>\n",
       "      <th>max</th>\n",
       "      <td>14.000000</td>\n",
       "      <td>323.124000</td>\n",
       "      <td>61227.196010</td>\n",
       "      <td>13.127000</td>\n",
       "      <td>481.030642</td>\n",
       "      <td>753.342620</td>\n",
       "      <td>28.300000</td>\n",
       "      <td>124.000000</td>\n",
       "      <td>6.739000</td>\n",
       "      <td>1.000000</td>\n",
       "    </tr>\n",
       "  </tbody>\n",
       "</table>\n",
       "</div>"
      ],
      "text/plain": [
       "                ph     Hardness        Solids  Chloramines      Sulfate  \\\n",
       "count  2785.000000  3276.000000   3276.000000  3276.000000  2495.000000   \n",
       "mean      7.080795   196.369496  22014.092526     7.122277   333.775777   \n",
       "std       1.594320    32.879761   8768.570828     1.583085    41.416840   \n",
       "min       0.000000    47.432000    320.942611     0.352000   129.000000   \n",
       "25%       6.093092   176.850538  15666.690300     6.127421   307.699498   \n",
       "50%       7.036752   196.967627  20927.833605     7.130299   333.073546   \n",
       "75%       8.062066   216.667456  27332.762125     8.114887   359.950170   \n",
       "max      14.000000   323.124000  61227.196010    13.127000   481.030642   \n",
       "\n",
       "       Conductivity  Organic_carbon  Trihalomethanes    Turbidity   Potability  \n",
       "count   3276.000000     3276.000000      3114.000000  3276.000000  3276.000000  \n",
       "mean     426.205111       14.284970        66.396293     3.966786     0.390110  \n",
       "std       80.824064        3.308162        16.175008     0.780382     0.487849  \n",
       "min      181.483754        2.200000         0.738000     1.450000     0.000000  \n",
       "25%      365.734414       12.065801        55.844536     3.439711     0.000000  \n",
       "50%      421.884968       14.218338        66.622485     3.955028     0.000000  \n",
       "75%      481.792305       16.557652        77.337473     4.500320     1.000000  \n",
       "max      753.342620       28.300000       124.000000     6.739000     1.000000  "
      ]
     },
     "execution_count": 7,
     "metadata": {},
     "output_type": "execute_result"
    }
   ],
   "source": [
    "df.describe()"
   ]
  },
  {
   "cell_type": "code",
   "execution_count": 8,
   "metadata": {
    "colab": {
     "base_uri": "https://localhost:8080/",
     "height": 955
    },
    "id": "uau2bsweaD2e",
    "outputId": "d110134e-11aa-414c-c580-a66ab1b68e54"
   },
   "outputs": [
    {
     "data": {
      "text/plain": [
       "array([[<AxesSubplot:title={'center':'ph'}>,\n",
       "        <AxesSubplot:title={'center':'Hardness'}>,\n",
       "        <AxesSubplot:title={'center':'Solids'}>],\n",
       "       [<AxesSubplot:title={'center':'Chloramines'}>,\n",
       "        <AxesSubplot:title={'center':'Sulfate'}>,\n",
       "        <AxesSubplot:title={'center':'Conductivity'}>],\n",
       "       [<AxesSubplot:title={'center':'Organic_carbon'}>,\n",
       "        <AxesSubplot:title={'center':'Trihalomethanes'}>,\n",
       "        <AxesSubplot:title={'center':'Turbidity'}>],\n",
       "       [<AxesSubplot:title={'center':'Potability'}>, <AxesSubplot:>,\n",
       "        <AxesSubplot:>]], dtype=object)"
      ]
     },
     "execution_count": 8,
     "metadata": {},
     "output_type": "execute_result"
    },
    {
     "data": {
      "image/png": "[encoded data removed]",
      "text/plain": [
       "<Figure size 1440x864 with 12 Axes>"
      ]
     },
     "metadata": {
      "needs_background": "light"
     },
     "output_type": "display_data"
    }
   ],
   "source": [
    "df.hist(figsize=(20,12))"
   ]
  },
  {
   "cell_type": "code",
   "execution_count": 9,
   "metadata": {
    "id": "8P74jQsme3ju"
   },
   "outputs": [],
   "source": [
    "#filling of missing values with mean\n",
    "df.ph.fillna(df.ph.mean(), inplace=True)\n",
    "df.Sulfate.fillna(df.Sulfate.mean(), inplace=True)\n",
    "df.Trihalomethanes.fillna(df.Trihalomethanes.mean(), inplace=True)"
   ]
  },
  {
   "cell_type": "code",
   "execution_count": 10,
   "metadata": {
    "id": "p1ca6YQ2aD54"
   },
   "outputs": [],
   "source": [
    "y = df.Potability\n",
    "X = df.drop('Potability', axis=1)\n",
    "X_train, X_test,y_train, y_test = train_test_split(X,y,test_size=0.2, random_state= 42 )"
   ]
  },
  {
   "cell_type": "code",
   "execution_count": 11,
   "metadata": {
    "colab": {
     "base_uri": "https://localhost:8080/"
    },
    "id": "JYnorY5cvWnP",
    "outputId": "3143d4f0-be38-4297-9143-4ce921005fc7"
   },
   "outputs": [
    {
     "data": {
      "text/plain": [
       "0    0.60989\n",
       "1    0.39011\n",
       "Name: Potability, dtype: float64"
      ]
     },
     "execution_count": 11,
     "metadata": {},
     "output_type": "execute_result"
    }
   ],
   "source": [
    "df.Potability.value_counts()/df.Potability.shape[0]\n",
    "#checking the class ratio in our original dataframe"
   ]
  },
  {
   "cell_type": "code",
   "execution_count": 12,
   "metadata": {
    "colab": {
     "base_uri": "https://localhost:8080/"
    },
    "id": "V2jvryfHwL7A",
    "outputId": "2226862b-94cf-4ff2-9a43-821cc805e2e3"
   },
   "outputs": [
    {
     "data": {
      "text/plain": [
       "(0    0.605344\n",
       " 1    0.394656\n",
       " Name: Potability, dtype: float64,\n",
       " 0    0.628049\n",
       " 1    0.371951\n",
       " Name: Potability, dtype: float64)"
      ]
     },
     "execution_count": 12,
     "metadata": {},
     "output_type": "execute_result"
    }
   ],
   "source": [
    "y_train.value_counts()/y_train.shape[0], y_test.value_counts()/y_test.shape[0]\n",
    "#checking the class ratio in our test and train dataframe to ensure the class ratio is not so different from th original df"
   ]
  },
  {
   "cell_type": "code",
   "execution_count": 13,
   "metadata": {
    "id": "5B03otyZaD9l"
   },
   "outputs": [],
   "source": [
    "#StandardScaler transforms the data such that it has mean as 0 and standard deviation as 1\n",
    "#same as DictVectorizer\n",
    "standardscaler = StandardScaler()\n",
    "X_train = standardscaler.fit_transform(X_train)\n",
    "X_test =  standardscaler.transform(X_test)"
   ]
  },
  {
   "cell_type": "code",
   "execution_count": 14,
   "metadata": {
    "id": "1aK9-ZSxaEBR"
   },
   "outputs": [],
   "source": [
    "#10 fold cross validation\n",
    "kf = KFold(n_splits = 10, shuffle=True, random_state=42)"
   ]
  },
  {
   "cell_type": "code",
   "execution_count": 15,
   "metadata": {
    "colab": {
     "base_uri": "https://localhost:8080/"
    },
    "id": "haQo0hvraEFI",
    "outputId": "80be8009-8ef4-4ff2-d9fb-be1d346294c4"
   },
   "outputs": [
    {
     "name": "stdout",
     "output_type": "stream",
     "text": [
      "0.465,0.067\n"
     ]
    }
   ],
   "source": [
    "lr = LogisticRegression()\n",
    "lr.fit(X_train, y_train)\n",
    "#cross fold validation scores:\n",
    "cv_score = cross_val_score(lr,X_test, y_test, cv=kf, scoring= 'roc_auc', n_jobs=-1)\n",
    "print(f'{np.mean(cv_score):.3f},{np.std(cv_score):.3f}')"
   ]
  },
  {
   "cell_type": "code",
   "execution_count": 16,
   "metadata": {
    "colab": {
     "base_uri": "https://localhost:8080/"
    },
    "id": "2i0oCF1sqe1n",
    "outputId": "1ed4fee0-173c-421d-a62a-a3cda6ec94cc"
   },
   "outputs": [
    {
     "name": "stdout",
     "output_type": "stream",
     "text": [
      "0.530,0.033\n"
     ]
    }
   ],
   "source": [
    "dtc = DecisionTreeClassifier(random_state=42)\n",
    "dtc.fit(X_train, y_train)\n",
    "#cross fold validation scores:\n",
    "cv_score = cross_val_score(dtc,X_test, y_test, cv=kf, scoring= 'roc_auc', n_jobs=-1, )\n",
    "print(f'{np.mean(cv_score):.3f},{np.std(cv_score):.3f}')"
   ]
  },
  {
   "cell_type": "code",
   "execution_count": 17,
   "metadata": {
    "colab": {
     "base_uri": "https://localhost:8080/"
    },
    "id": "hiY0TVnOqe8M",
    "outputId": "0b81f035-f462-449f-9e13-b646ec032f1d"
   },
   "outputs": [
    {
     "name": "stdout",
     "output_type": "stream",
     "text": [
      "0.626,0.065\n"
     ]
    }
   ],
   "source": [
    "gbc = GradientBoostingClassifier(random_state=42)\n",
    "gbc.fit(X_train, y_train)\n",
    "cv_score = cross_val_score(gbc,X_test, y_test, cv=kf, scoring= 'roc_auc', n_jobs=-1)\n",
    "print(f'{np.mean(cv_score):.3f},{np.std(cv_score):.3f}')\n"
   ]
  },
  {
   "cell_type": "code",
   "execution_count": 18,
   "metadata": {
    "colab": {
     "base_uri": "https://localhost:8080/"
    },
    "id": "wP7709I_qfDs",
    "outputId": "8f6afbae-9eb9-4ea4-855b-a0e41c220517"
   },
   "outputs": [
    {
     "name": "stdout",
     "output_type": "stream",
     "text": [
      "0.587,0.077\n"
     ]
    }
   ],
   "source": [
    "rf = RandomForestClassifier(random_state=42)\n",
    "rf.fit(X_train, y_train)\n",
    "cv_score = cross_val_score(rf,X_test, y_test, cv=kf, scoring= 'roc_auc', n_jobs=-1)\n",
    "print(f'{np.mean(cv_score):.3f},{np.std(cv_score):.3f}')"
   ]
  },
  {
   "cell_type": "code",
   "execution_count": 19,
   "metadata": {
    "colab": {
     "base_uri": "https://localhost:8080/"
    },
    "id": "qBifxqqlaEJF",
    "outputId": "3c7b776e-c946-43ae-9d97-142a74d39d3b"
   },
   "outputs": [
    {
     "name": "stdout",
     "output_type": "stream",
     "text": [
      "0.630,0.067\n"
     ]
    }
   ],
   "source": [
    "lgbm = LGBMClassifier()\n",
    "lgbm.fit(X_train, y_train)\n",
    "cv_score = cross_val_score(lgbm,X_test, y_test, cv=kf, scoring= 'roc_auc', n_jobs=-1)\n",
    "print(f'{np.mean(cv_score):.3f},{np.std(cv_score):.3f}')"
   ]
  },
  {
   "cell_type": "code",
   "execution_count": 20,
   "metadata": {
    "colab": {
     "base_uri": "https://localhost:8080/"
    },
    "id": "pl_3UbDVqfLD",
    "outputId": "069f4c0b-85db-4503-e17a-69d0e546ae6d"
   },
   "outputs": [
    {
     "name": "stdout",
     "output_type": "stream",
     "text": [
      "0.547,0.074\n"
     ]
    }
   ],
   "source": [
    "abc = AdaBoostClassifier()\n",
    "abc.fit(X_train, y_train)\n",
    "cv_score = cross_val_score(abc,X_test, y_test, cv=kf, scoring= 'roc_auc', n_jobs=-1)\n",
    "print(f'{np.mean(cv_score):.3f},{np.std(cv_score):.3f}')"
   ]
  },
  {
   "cell_type": "code",
   "execution_count": 21,
   "metadata": {
    "colab": {
     "base_uri": "https://localhost:8080/"
    },
    "id": "owcZ2n6xqfgV",
    "outputId": "6ac8db1e-f76a-4bdf-c5d4-2c5cb499ee30"
   },
   "outputs": [
    {
     "name": "stdout",
     "output_type": "stream",
     "text": [
      "0.639,0.071\n"
     ]
    }
   ],
   "source": [
    "cbc = CatBoostClassifier(verbose=False)\n",
    "cbc.fit(X_train, y_train)\n",
    "cv_score = cross_val_score(cbc,X_test, y_test, cv=kf, scoring= 'roc_auc', n_jobs=-1)\n",
    "print(f'{np.mean(cv_score):.3f},{np.std(cv_score):.3f}')"
   ]
  },
  {
   "cell_type": "markdown",
   "metadata": {
    "id": "AhS-EmcHoRUx"
   },
   "source": [
    "**Hyper parameter tuning**\n",
    "\n",
    "I will tuning the hyper parameter of the followig classifier because they have relatively high f1 score using their default parameter\n",
    "\n",
    "*   GradientBoostingClassifier\n",
    "*   LGBMClassifier\n",
    "\n",
    "\n",
    "\n"
   ]
  },
  {
   "cell_type": "code",
   "execution_count": 22,
   "metadata": {
    "colab": {
     "base_uri": "https://localhost:8080/"
    },
    "id": "R8zuNljkaENP",
    "outputId": "04569e53-536f-49f7-dbe5-3f64b6f83ab6"
   },
   "outputs": [
    {
     "name": "stdout",
     "output_type": "stream",
     "text": [
      "Best params: {'criterion': 'gini', 'max_depth': 15, 'max_leaf_nodes': None, 'min_samples_leaf': 4}\n"
     ]
    }
   ],
   "source": [
    "#DecisionTreeClassifier GridSearch Hyper parameter tuning\n",
    "\n",
    "params = {\n",
    "    'criterion' : [\"gini\", \"entropy\"],\n",
    "    'min_samples_leaf': [ 2, 3,4],\n",
    "    'max_depth':[None, 5, 10, 15],\n",
    "    'max_leaf_nodes': [None,5, 10, 15, 20]\n",
    "}\n",
    "model = DecisionTreeClassifier(random_state=42 )\n",
    "dtc_cv = GridSearchCV(model, params, cv=kf, scoring= 'roc_auc', n_jobs=-1)\n",
    "dtc_cv.fit(X_train,y_train)\n",
    "print(f'Best params: {dtc_cv.best_params_}')\n",
    "#Best params: {'criterion': 'gini', 'max_depth': 15,\n",
    "#'max_leaf_nodes': None, 'min_samples_leaf': 4}"
   ]
  },
  {
   "cell_type": "code",
   "execution_count": 26,
   "metadata": {
    "colab": {
     "base_uri": "https://localhost:8080/"
    },
    "id": "5E_lPtekwE2-",
    "outputId": "306e5a3a-6502-4d80-f787-c87191d4212e"
   },
   "outputs": [
    {
     "name": "stdout",
     "output_type": "stream",
     "text": [
      "0.546,0.050\n"
     ]
    }
   ],
   "source": [
    "dtc = DecisionTreeClassifier(min_samples_leaf=4, max_depth=15,random_state=42)\n",
    "dtc.fit(X_train, y_train)\n",
    "cv_score = cross_val_score(dtc,X_test, y_test, cv=kf, scoring= 'roc_auc', n_jobs=-1)\n",
    "print(f'{np.mean(cv_score):.3f},{np.std(cv_score):.3f}')\n",
    "#0.546,0.050"
   ]
  },
  {
   "cell_type": "code",
   "execution_count": null,
   "metadata": {
    "colab": {
     "base_uri": "https://localhost:8080/"
    },
    "id": "G-fRJFBjwFEY",
    "outputId": "86ccbbe4-ac8d-4434-9239-4d02f6e4cfa3"
   },
   "outputs": [],
   "source": [
    "#LGBMClassifier GridSearch Hyper parameter tuning\n",
    "param_test = {\n",
    "    'num_leaves': [31, 127],\n",
    "    'reg_alpha': [0.0, 0.1, 0.5],\n",
    "    'min_data_in_leaf': [30, 50, 100, 300, 400],\n",
    "    'lambda_l1': [0, 1, 1.5],\n",
    "    'lambda_l2': [0, 1]\n",
    "    }\n",
    "\n",
    "lgbm2 = LGBMClassifier()\n",
    "lgbm_cv = GridSearchCV(lgbm2, param_test, cv = kf, scoring='roc_auc',\n",
    "                  refit=True, verbose= False)\n",
    "lgbm_cv.fit(X,y)\n"
   ]
  },
  {
   "cell_type": "code",
   "execution_count": null,
   "metadata": {},
   "outputs": [],
   "source": [
    "print(f'Best params: {lgbm_cv.best_params_}')\n",
    "#Best params: {'lambda_l1': 0, 'lambda_l2': 1, 'min_data_in_leaf': 100, \n",
    "#'num_leaves': 31, 'reg_alpha': 0.1}"
   ]
  },
  {
   "cell_type": "code",
   "execution_count": 28,
   "metadata": {
    "colab": {
     "base_uri": "https://localhost:8080/"
    },
    "id": "_cvvFBYQUT5T",
    "outputId": "7ca2f517-492e-41a8-c0a9-5c962308ccac"
   },
   "outputs": [
    {
     "name": "stdout",
     "output_type": "stream",
     "text": [
      "0.596,0.029\n"
     ]
    }
   ],
   "source": [
    "lgbm3 = LGBMClassifier(lambda_l2=1, min_data_in_leaf=100, reg_alpha=0.1,\n",
    "                       num_leaves=31)\n",
    "lgbm3.fit(X_train, y_train)\n",
    "cv_score = cross_val_score(lgbm3,X_test, y_test, cv=kf, scoring= 'roc_auc', n_jobs=-1)\n",
    "print(f'{np.mean(cv_score):.3f},{np.std(cv_score):.3f}')\n",
    "#0.596,0.029"
   ]
  },
  {
   "cell_type": "code",
   "execution_count": null,
   "metadata": {
    "colab": {
     "base_uri": "https://localhost:8080/"
    },
    "id": "HI34t3GZaAga",
    "outputId": "a99a7991-7ace-4fa7-823c-2fab7e88b8dd"
   },
   "outputs": [],
   "source": [
    "param_test = {\n",
    "              \"criterion\": [\"friedman_mse\",  \"mae\"],\n",
    "              \"loss\":[\"deviance\",\"exponential\"],\n",
    "              \"max_features\":[\"log2\",\"sqrt\",None ],\n",
    "              'learning_rate': [0.01,0.05,0.1,1,0.5], \n",
    "              'max_depth': [3,4,5],\n",
    "              'min_samples_leaf': [1,4,5,6],\n",
    "\n",
    "              'subsample': [0.6,0.7,0.8,1.0],\n",
    "              'n_estimators': [5,10,15,20,100]\n",
    "\n",
    "              }\n",
    "\n",
    "gbc2 = GradientBoostingClassifier(random_state=42)\n",
    "gbc2_cv = GridSearchCV(lgbm2, param_test, cv = kf, scoring='roc_auc',\n",
    "                  refit=True, verbose= False)\n",
    "gbc2_cv.fit(X,y)\n"
   ]
  },
  {
   "cell_type": "code",
   "execution_count": null,
   "metadata": {
    "colab": {
     "base_uri": "https://localhost:8080/"
    },
    "id": "cbS5uSW6h8EE",
    "outputId": "46ad1093-4f45-4d91-82d8-03d32a686311"
   },
   "outputs": [],
   "source": [
    "print(f'Best params: {gbc2_cv.best_params_}')\n",
    "#Best params: {'criterion': 'friedman_mse', 'learning_rate': 0.1, \n",
    "#'loss': 'deviance', 'max_depth': 5, 'max_features': 'log2',\n",
    "#'min_samples_leaf': 1, 'n_estimators': 100, 'subsample': 0.6}"
   ]
  },
  {
   "cell_type": "code",
   "execution_count": 29,
   "metadata": {
    "colab": {
     "base_uri": "https://localhost:8080/"
    },
    "id": "h7SNWQ05iH7E",
    "outputId": "5e0629cb-b305-4cf6-8b9a-1bc672919180"
   },
   "outputs": [
    {
     "name": "stdout",
     "output_type": "stream",
     "text": [
      "0.607,0.067\n"
     ]
    }
   ],
   "source": [
    "gbc3 = GradientBoostingClassifier(random_state=42, criterion='friedman_mse', learning_rate=0.1,\n",
    "                                 loss='deviance', max_depth=5,max_features='log2',\n",
    "                                 min_samples_leaf=1,n_estimators=100, subsample=0.6)\n",
    "gbc3.fit(X_train, y_train)\n",
    "cv_score = cross_val_score(gbc3,X_test, y_test, cv=kf, scoring= 'roc_auc', n_jobs=-1)\n",
    "print(f'{np.mean(cv_score):.3f},{np.std(cv_score):.3f}')\n",
    "#0.607,0.067"
   ]
  },
  {
   "cell_type": "markdown",
   "metadata": {
    "id": "KYh_mLJJSWl8"
   },
   "source": [
    " Saving and loading the model"
   ]
  },
  {
   "cell_type": "code",
   "execution_count": 30,
   "metadata": {
    "id": "M6gSdb9OSJCq"
   },
   "outputs": [],
   "source": [
    "output_file = 'Drinking_Water_Potability_model.bin'\n",
    "with open(output_file,'wb') as f_out:\n",
    "  pickle.dump((standardscaler,gbc3), f_out)"
   ]
  },
  {
   "cell_type": "code",
   "execution_count": null,
   "metadata": {
    "id": "5cgaD6SHcqt4"
   },
   "outputs": [],
   "source": []
  }
 ],
 "metadata": {
  "colab": {
   "collapsed_sections": [],
   "name": "Drinking_Water_Potability.ipynb",
   "provenance": []
  },
  "kernelspec": {
   "display_name": "Python 3",
   "language": "python",
   "name": "python3"
  },
  "language_info": {
   "codemirror_mode": {
    "name": "ipython",
    "version": 3
   },
   "file_extension": ".py",
   "mimetype": "text/x-python",
   "name": "python",
   "nbconvert_exporter": "python",
   "pygments_lexer": "ipython3",
   "version": "3.8.8"
  }
 },
 "nbformat": 4,
 "nbformat_minor": 1
}
