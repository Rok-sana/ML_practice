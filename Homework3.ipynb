{
 "cells": [
  {
   "cell_type": "code",
   "execution_count": 34,
   "id": "8fa2607c",
   "metadata": {},
   "outputs": [],
   "source": [
    "import pandas as pd\n",
    "import numpy as np\n",
    "\n",
    "import matplotlib.pyplot as plt\n",
    "from sklearn.model_selection import train_test_split\n",
    "from sklearn.metrics import mutual_info_score\n",
    "from sklearn.feature_extraction import DictVectorizer\n",
    "from sklearn.linear_model import LogisticRegression\n",
    "from sklearn.preprocessing import StandardScaler"
   ]
  },
  {
   "cell_type": "markdown",
   "id": "25c1647c",
   "metadata": {},
   "source": [
    "## Question1"
   ]
  },
  {
   "cell_type": "code",
   "execution_count": 2,
   "id": "6be56558",
   "metadata": {},
   "outputs": [],
   "source": [
    "data = pd.read_csv(\"https://raw.githubusercontent.com/alexeygrigorev/datasets/master/AB_NYC_2019.csv\")"
   ]
  },
  {
   "cell_type": "code",
   "execution_count": 3,
   "id": "2357f308",
   "metadata": {},
   "outputs": [],
   "source": [
    "features= ['neighbourhood_group','room_type','latitude','longitude','price','minimum_nights','number_of_reviews','reviews_per_month','calculated_host_listings_count','availability_365']"
   ]
  },
  {
   "cell_type": "code",
   "execution_count": 4,
   "id": "90972132",
   "metadata": {},
   "outputs": [],
   "source": [
    "df = data[features]"
   ]
  },
  {
   "cell_type": "code",
   "execution_count": 5,
   "id": "d05a8bb0",
   "metadata": {},
   "outputs": [],
   "source": [
    "df=df.fillna(0)"
   ]
  },
  {
   "cell_type": "code",
   "execution_count": 6,
   "id": "bfe6f06f",
   "metadata": {},
   "outputs": [
    {
     "data": {
      "text/plain": [
       "0    Manhattan\n",
       "dtype: object"
      ]
     },
     "execution_count": 6,
     "metadata": {},
     "output_type": "execute_result"
    }
   ],
   "source": [
    "df['neighbourhood_group'].mode(dropna=False)"
   ]
  },
  {
   "cell_type": "code",
   "execution_count": 7,
   "id": "80f3270d",
   "metadata": {},
   "outputs": [],
   "source": [
    "df_full_train, df_test = train_test_split(df, test_size=0.2, random_state=42)\n",
    "df_train, df_val = train_test_split(df_full_train, test_size=0.25, random_state=42)"
   ]
  },
  {
   "cell_type": "code",
   "execution_count": 8,
   "id": "c9d171c1",
   "metadata": {},
   "outputs": [
    {
     "data": {
      "text/plain": [
       "(29337, 9779, 9779)"
      ]
     },
     "execution_count": 8,
     "metadata": {},
     "output_type": "execute_result"
    }
   ],
   "source": [
    "len(df_train), len(df_val), len(df_test)"
   ]
  },
  {
   "cell_type": "code",
   "execution_count": 9,
   "id": "38f97544",
   "metadata": {},
   "outputs": [],
   "source": [
    "df_train = df_train.reset_index(drop=True)\n",
    "df_val = df_val.reset_index(drop=True)\n",
    "df_test = df_test.reset_index(drop=True)"
   ]
  },
  {
   "cell_type": "code",
   "execution_count": 10,
   "id": "d61614df",
   "metadata": {},
   "outputs": [],
   "source": [
    "y_train = df_train.price.values\n",
    "y_val = df_val.price.values\n",
    "y_test = df_test.price.values\n",
    "\n",
    "del df_train['price']\n",
    "del df_val['price']\n",
    "del df_test['price']"
   ]
  },
  {
   "cell_type": "markdown",
   "id": "148cd0b9",
   "metadata": {},
   "source": [
    "## Question2"
   ]
  },
  {
   "cell_type": "code",
   "execution_count": 11,
   "id": "1d8c70c5",
   "metadata": {},
   "outputs": [],
   "source": [
    "corr_df = df.corr()"
   ]
  },
  {
   "cell_type": "code",
   "execution_count": 12,
   "id": "55a46982",
   "metadata": {},
   "outputs": [
    {
     "data": {
      "text/plain": [
       "latitude                        latitude                          1.000000\n",
       "longitude                       longitude                         1.000000\n",
       "calculated_host_listings_count  calculated_host_listings_count    1.000000\n",
       "reviews_per_month               reviews_per_month                 1.000000\n",
       "number_of_reviews               number_of_reviews                 1.000000\n",
       "minimum_nights                  minimum_nights                    1.000000\n",
       "price                           price                             1.000000\n",
       "availability_365                availability_365                  1.000000\n",
       "reviews_per_month               number_of_reviews                 0.589407\n",
       "number_of_reviews               reviews_per_month                 0.589407\n",
       "dtype: float64"
      ]
     },
     "execution_count": 12,
     "metadata": {},
     "output_type": "execute_result"
    }
   ],
   "source": [
    "corr_df.unstack().sort_values(ascending=False).head(len(features))"
   ]
  },
  {
   "cell_type": "code",
   "execution_count": 105,
   "id": "3dfff082",
   "metadata": {},
   "outputs": [],
   "source": [
    "above_average = (df_full_train.price <= 152).astype(int)"
   ]
  },
  {
   "cell_type": "code",
   "execution_count": 106,
   "id": "e35657d1",
   "metadata": {},
   "outputs": [
    {
     "data": {
      "text/plain": [
       "32645    0\n",
       "23615    1\n",
       "31183    1\n",
       "29260    1\n",
       "7275     1\n",
       "        ..\n",
       "11284    1\n",
       "44732    1\n",
       "38158    1\n",
       "860      1\n",
       "15795    1\n",
       "Name: price, Length: 39116, dtype: int64"
      ]
     },
     "execution_count": 106,
     "metadata": {},
     "output_type": "execute_result"
    }
   ],
   "source": [
    "above_average"
   ]
  },
  {
   "cell_type": "markdown",
   "id": "da62f4bc",
   "metadata": {},
   "source": [
    "## Question3"
   ]
  },
  {
   "cell_type": "code",
   "execution_count": 107,
   "id": "1ff803a3",
   "metadata": {},
   "outputs": [],
   "source": [
    "categorical_columns = list(df.dtypes[df.dtypes == 'object'].index)"
   ]
  },
  {
   "cell_type": "code",
   "execution_count": 108,
   "id": "41b32712",
   "metadata": {},
   "outputs": [
    {
     "data": {
      "text/plain": [
       "['neighbourhood_group', 'room_type']"
      ]
     },
     "execution_count": 108,
     "metadata": {},
     "output_type": "execute_result"
    }
   ],
   "source": [
    "categorical_columns"
   ]
  },
  {
   "cell_type": "code",
   "execution_count": 109,
   "id": "142027d4",
   "metadata": {},
   "outputs": [],
   "source": [
    "def mutual_info_score_to_price(x):\n",
    "    return mutual_info_score(x, df_full_train.price)\n"
   ]
  },
  {
   "cell_type": "code",
   "execution_count": 110,
   "id": "d0848d4a",
   "metadata": {},
   "outputs": [
    {
     "data": {
      "text/plain": [
       "room_type              0.31\n",
       "neighbourhood_group    0.11\n",
       "dtype: float64"
      ]
     },
     "execution_count": 110,
     "metadata": {},
     "output_type": "execute_result"
    }
   ],
   "source": [
    "mi = round(df_full_train[categorical_columns].apply(mutual_info_score_to_price),2)\n",
    "mi.sort_values(ascending=False)"
   ]
  },
  {
   "cell_type": "markdown",
   "id": "4999a72a",
   "metadata": {},
   "source": [
    "## Question4"
   ]
  },
  {
   "cell_type": "code",
   "execution_count": 136,
   "id": "1a6a7626",
   "metadata": {},
   "outputs": [],
   "source": [
    "numerical = list(df.dtypes[df.dtypes != 'object'].index)"
   ]
  },
  {
   "cell_type": "code",
   "execution_count": 137,
   "id": "7e1c1cd6",
   "metadata": {},
   "outputs": [],
   "source": [
    "numerical.remove(\"price\")"
   ]
  },
  {
   "cell_type": "code",
   "execution_count": 113,
   "id": "e5aaa591",
   "metadata": {},
   "outputs": [
    {
     "data": {
      "text/plain": [
       "['latitude',\n",
       " 'longitude',\n",
       " 'minimum_nights',\n",
       " 'number_of_reviews',\n",
       " 'reviews_per_month',\n",
       " 'calculated_host_listings_count',\n",
       " 'availability_365']"
      ]
     },
     "execution_count": 113,
     "metadata": {},
     "output_type": "execute_result"
    }
   ],
   "source": [
    "numerical"
   ]
  },
  {
   "cell_type": "code",
   "execution_count": 124,
   "id": "59f61769",
   "metadata": {},
   "outputs": [],
   "source": [
    "dv = DictVectorizer(sparse=False)\n",
    "\n",
    "train_dict = df_train[categorical_columns+numerical].to_dict(orient='records')\n",
    "X_train = dv.fit_transform(train_dict)\n",
    "\n",
    "val_dict = df_val[categorical_columns+numerical].to_dict(orient='records')\n",
    "X_val = dv.transform(val_dict)\n",
    "\n",
    "y_train_binary = (y_train <= 152).astype(int)\n",
    "y_val_binary = (y_val <= 152).astype(int)"
   ]
  },
  {
   "cell_type": "code",
   "execution_count": 125,
   "id": "b49ab450",
   "metadata": {},
   "outputs": [],
   "source": [
    "model = LogisticRegression(solver=\"liblinear\", C=1.0, random_state=42)"
   ]
  },
  {
   "cell_type": "code",
   "execution_count": 126,
   "id": "9d930ff9",
   "metadata": {},
   "outputs": [
    {
     "data": {
      "text/plain": [
       "LogisticRegression(random_state=42, solver='liblinear')"
      ]
     },
     "execution_count": 126,
     "metadata": {},
     "output_type": "execute_result"
    }
   ],
   "source": [
    "model.fit(X_train, y_train_binary)"
   ]
  },
  {
   "cell_type": "code",
   "execution_count": 127,
   "id": "adbc234f",
   "metadata": {},
   "outputs": [
    {
     "data": {
      "text/plain": [
       "0.09546761934671312"
      ]
     },
     "execution_count": 127,
     "metadata": {},
     "output_type": "execute_result"
    }
   ],
   "source": [
    "model.intercept_[0]"
   ]
  },
  {
   "cell_type": "code",
   "execution_count": 128,
   "id": "9351b579",
   "metadata": {},
   "outputs": [
    {
     "data": {
      "text/plain": [
       "array([-3.000e-03, -3.000e-03,  5.833e+00,  3.175e+00,  1.200e-02,\n",
       "        7.600e-02, -1.320e-01, -1.587e+00,  1.600e-02,  1.722e+00,\n",
       "        3.000e-03,  4.200e-02, -1.944e+00,  8.350e-01,  1.205e+00])"
      ]
     },
     "execution_count": 128,
     "metadata": {},
     "output_type": "execute_result"
    }
   ],
   "source": [
    "model.coef_[0].round(3)"
   ]
  },
  {
   "cell_type": "code",
   "execution_count": 129,
   "id": "bef10f42",
   "metadata": {},
   "outputs": [],
   "source": [
    "y_pred = model.predict_proba(X_val)[:, 1]"
   ]
  },
  {
   "cell_type": "code",
   "execution_count": 130,
   "id": "7656c5b6",
   "metadata": {},
   "outputs": [],
   "source": [
    "price_decision = (y_pred >= 0.5)"
   ]
  },
  {
   "cell_type": "code",
   "execution_count": 132,
   "id": "a21b346d",
   "metadata": {},
   "outputs": [],
   "source": [
    "common_acc = round((y_val_binary == price_decision).mean(),2)"
   ]
  },
  {
   "cell_type": "code",
   "execution_count": 133,
   "id": "9ce49473",
   "metadata": {},
   "outputs": [
    {
     "data": {
      "text/plain": [
       "0.79"
      ]
     },
     "execution_count": 133,
     "metadata": {},
     "output_type": "execute_result"
    }
   ],
   "source": [
    "common_acc"
   ]
  },
  {
   "cell_type": "markdown",
   "id": "8a38f962",
   "metadata": {},
   "source": [
    "## Question5"
   ]
  },
  {
   "cell_type": "code",
   "execution_count": 166,
   "id": "e2eb0ad7",
   "metadata": {},
   "outputs": [
    {
     "name": "stdout",
     "output_type": "stream",
     "text": [
      "-0.000264853256979225\n",
      "neighbourhood_group\n"
     ]
    }
   ],
   "source": [
    "no_columns = df_val.columns      \n",
    "less_diff=10000000000\n",
    "base  = df_train.columns\n",
    "res = \"\"\n",
    "\n",
    "\n",
    "for n in no_columns:\n",
    "    \n",
    "    subset_base = list(filter(lambda x: ( x != n), base)) \n",
    "    df_train_subset = df_train[subset_base]\n",
    "    df_val_subset = df_val[subset_base]\n",
    "    \n",
    "    dictionary_train_base_subset = df_train_subset.to_dict(orient='records')\n",
    "    X_train_subset = dv.transform(dictionary_train_base_subset)\n",
    "    \n",
    "    dictionary_val_base_subset = df_val_subset = df_val[subset_base].to_dict(orient='records')\n",
    "    X_val_subset = dv.transform(dictionary_val_base_subset)\n",
    "    \n",
    "    model = LogisticRegression(solver=\"liblinear\", C=1.0, random_state=42)\n",
    "    \n",
    "    model.fit(X_train_subset, y_train_binary)\n",
    "    \n",
    "    y_pred = model.predict_proba(X_val_subset)[:, 1]\n",
    "    acc = (y_val_binary == price_decision).mean()\n",
    "    if less_diff > (common_acc - acc):\n",
    "        less_diff = (common_acc - acc)\n",
    "        res = n\n",
    "        \n",
    "print(less_diff)\n",
    "print(res)"
   ]
  },
  {
   "cell_type": "markdown",
   "id": "5cf03a0c",
   "metadata": {},
   "source": [
    "## Question 6"
   ]
  },
  {
   "cell_type": "code",
   "execution_count": 180,
   "id": "565b74ce",
   "metadata": {},
   "outputs": [],
   "source": [
    "def rmse(y, y_pred):\n",
    "    se = (y - y_pred) ** 2\n",
    "    mse = se.mean()\n",
    "    return np.sqrt(mse)"
   ]
  },
  {
   "cell_type": "code",
   "execution_count": 168,
   "id": "b4389b1c",
   "metadata": {},
   "outputs": [],
   "source": [
    "from sklearn.linear_model import Ridge"
   ]
  },
  {
   "cell_type": "code",
   "execution_count": 182,
   "id": "a76bc541",
   "metadata": {},
   "outputs": [],
   "source": [
    "log_price_train = np.log1p(y_train)\n",
    "log_price_val = np.log1p(y_val)"
   ]
  },
  {
   "cell_type": "code",
   "execution_count": 183,
   "id": "ce4f067d",
   "metadata": {},
   "outputs": [],
   "source": [
    "alpha_indexes = [0, 0.01, 0.1, 1, 10]"
   ]
  },
  {
   "cell_type": "code",
   "execution_count": 187,
   "id": "e3e34413",
   "metadata": {},
   "outputs": [
    {
     "name": "stdout",
     "output_type": "stream",
     "text": [
      "0 0.498\n",
      "0.01 0.498\n",
      "0.1 0.498\n",
      "1 0.498\n",
      "10 0.498\n"
     ]
    }
   ],
   "source": [
    "for n in alpha_indexes:\n",
    "    model = Ridge(alpha=n)\n",
    "    model.fit(X_train, log_price_train)\n",
    "    log_y_pred = linridge.predict(X_val)\n",
    "    res = rmse(log_price_val, log_y_pred)\n",
    "    print(n, round(res,3))"
   ]
  },
  {
   "cell_type": "code",
   "execution_count": null,
   "id": "cd05f31e",
   "metadata": {},
   "outputs": [],
   "source": []
  },
  {
   "cell_type": "code",
   "execution_count": null,
   "id": "1c4334e7",
   "metadata": {},
   "outputs": [],
   "source": []
  },
  {
   "cell_type": "code",
   "execution_count": null,
   "id": "ec818975",
   "metadata": {},
   "outputs": [],
   "source": []
  },
  {
   "cell_type": "code",
   "execution_count": null,
   "id": "4f5aa3c2",
   "metadata": {},
   "outputs": [],
   "source": []
  }
 ],
 "metadata": {
  "kernelspec": {
   "display_name": "Python 3",
   "language": "python",
   "name": "python3"
  },
  "language_info": {
   "codemirror_mode": {
    "name": "ipython",
    "version": 3
   },
   "file_extension": ".py",
   "mimetype": "text/x-python",
   "name": "python",
   "nbconvert_exporter": "python",
   "pygments_lexer": "ipython3",
   "version": "3.9.2"
  }
 },
 "nbformat": 4,
 "nbformat_minor": 5
}
