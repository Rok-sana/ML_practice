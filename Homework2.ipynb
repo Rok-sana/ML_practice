{
 "cells": [
  {
   "cell_type": "code",
   "execution_count": 282,
   "id": "37800ee1",
   "metadata": {},
   "outputs": [
    {
     "data": {
      "text/html": [
       "<style>svg{width: 40% !important; height: 40% !important;} </style>"
      ],
      "text/plain": [
       "<IPython.core.display.HTML object>"
      ]
     },
     "execution_count": 282,
     "metadata": {},
     "output_type": "execute_result"
    }
   ],
   "source": [
    "import pandas as pd\n",
    "import numpy as np\n",
    "from sklearn import tree\n",
    "from sklearn.metrics import accuracy_score\n",
    "%matplotlib inline\n",
    "import matplotlib.pyplot as plt\n",
    "import seaborn as sns\n",
    "from IPython.display import SVG\n",
    "from graphviz import Source\n",
    "from IPython.display import display\n",
    "from IPython.display import HTML\n",
    "style = \"<style>svg{width: 40% !important; height: 40% !important;} </style>\"\n",
    "HTML(style)"
   ]
  },
  {
   "cell_type": "markdown",
   "id": "b5efeb9f",
   "metadata": {},
   "source": [
    "## Question1"
   ]
  },
  {
   "cell_type": "code",
   "execution_count": 283,
   "id": "cc9340f7",
   "metadata": {},
   "outputs": [],
   "source": [
    "common_df = pd.read_csv('https://raw.githubusercontent.com/alexeygrigorev/datasets/master/AB_NYC_2019.csv')"
   ]
  },
  {
   "cell_type": "code",
   "execution_count": 284,
   "id": "9b53eb15",
   "metadata": {},
   "outputs": [],
   "source": [
    "features = ['latitude','longitude','price','minimum_nights','number_of_reviews','reviews_per_month','calculated_host_listings_count','availability_365']"
   ]
  },
  {
   "cell_type": "code",
   "execution_count": 285,
   "id": "82fad5db",
   "metadata": {},
   "outputs": [],
   "source": [
    "df = common_df[features]"
   ]
  },
  {
   "cell_type": "code",
   "execution_count": 286,
   "id": "e7c6906c",
   "metadata": {},
   "outputs": [
    {
     "data": {
      "text/plain": [
       "latitude                              0\n",
       "longitude                             0\n",
       "price                                 0\n",
       "minimum_nights                        0\n",
       "number_of_reviews                     0\n",
       "reviews_per_month                 10052\n",
       "calculated_host_listings_count        0\n",
       "availability_365                      0\n",
       "dtype: int64"
      ]
     },
     "execution_count": 286,
     "metadata": {},
     "output_type": "execute_result"
    }
   ],
   "source": [
    "df.isna().sum()"
   ]
  },
  {
   "cell_type": "markdown",
   "id": "29fdbf18",
   "metadata": {},
   "source": [
    "## Question2"
   ]
  },
  {
   "cell_type": "code",
   "execution_count": 287,
   "id": "bf9fd250",
   "metadata": {},
   "outputs": [],
   "source": [
    "median = df['minimum_nights'].median()"
   ]
  },
  {
   "cell_type": "code",
   "execution_count": 288,
   "id": "8b072b1e",
   "metadata": {},
   "outputs": [
    {
     "data": {
      "text/plain": [
       "3.0"
      ]
     },
     "execution_count": 288,
     "metadata": {},
     "output_type": "execute_result"
    }
   ],
   "source": [
    "median"
   ]
  },
  {
   "cell_type": "code",
   "execution_count": 289,
   "id": "ce500b8d",
   "metadata": {},
   "outputs": [],
   "source": [
    "n = len(df)\n",
    "n_val = int(n * 0.2)\n",
    "n_test = int(n * 0.2)\n",
    "n_train = n - n_val - n_test"
   ]
  },
  {
   "cell_type": "code",
   "execution_count": 290,
   "id": "1ee491af",
   "metadata": {},
   "outputs": [
    {
     "data": {
      "text/plain": [
       "48895"
      ]
     },
     "execution_count": 290,
     "metadata": {},
     "output_type": "execute_result"
    }
   ],
   "source": [
    "n"
   ]
  },
  {
   "cell_type": "code",
   "execution_count": 291,
   "id": "09715b37",
   "metadata": {},
   "outputs": [
    {
     "data": {
      "text/plain": [
       "(9779, 9779, 29337)"
      ]
     },
     "execution_count": 291,
     "metadata": {},
     "output_type": "execute_result"
    }
   ],
   "source": [
    "n_val, n_test, n_train"
   ]
  },
  {
   "cell_type": "code",
   "execution_count": 292,
   "id": "38357180",
   "metadata": {},
   "outputs": [],
   "source": [
    "df_train = df.iloc[:n_train]\n",
    "df_val = df.iloc[n_train:n_train+n_val]\n",
    "df_test = df.iloc[n_train+n_val:]"
   ]
  },
  {
   "cell_type": "code",
   "execution_count": 293,
   "id": "0b8e0c55",
   "metadata": {},
   "outputs": [
    {
     "data": {
      "text/plain": [
       "(29337, 9779, 9779)"
      ]
     },
     "execution_count": 293,
     "metadata": {},
     "output_type": "execute_result"
    }
   ],
   "source": [
    "len(df_train), len(df_val), len(df_test)"
   ]
  },
  {
   "cell_type": "code",
   "execution_count": 294,
   "id": "555e6d20",
   "metadata": {},
   "outputs": [],
   "source": [
    "random_set = np.arange(n)"
   ]
  },
  {
   "cell_type": "code",
   "execution_count": 295,
   "id": "f4d0a1c3",
   "metadata": {},
   "outputs": [],
   "source": [
    "np.random.seed(42)"
   ]
  },
  {
   "cell_type": "code",
   "execution_count": 296,
   "id": "487fb2de",
   "metadata": {},
   "outputs": [],
   "source": [
    "np.random.shuffle(random_set)"
   ]
  },
  {
   "cell_type": "code",
   "execution_count": 297,
   "id": "8d82cdb7",
   "metadata": {},
   "outputs": [],
   "source": [
    "df_train = df.iloc[random_set[:n_train]]\n",
    "df_val = df.iloc[random_set[n_train:n_train+n_val]]\n",
    "df_test = df.iloc[random_set[n_train+n_val:]]"
   ]
  },
  {
   "cell_type": "code",
   "execution_count": 298,
   "id": "e9f6e340",
   "metadata": {},
   "outputs": [
    {
     "data": {
      "text/plain": [
       "(29337, 9779, 9779)"
      ]
     },
     "execution_count": 298,
     "metadata": {},
     "output_type": "execute_result"
    }
   ],
   "source": [
    "len(df_train), len(df_val), len(df_test)"
   ]
  },
  {
   "cell_type": "code",
   "execution_count": 299,
   "id": "252c94f6",
   "metadata": {},
   "outputs": [],
   "source": [
    "df_train = df_train.reset_index(drop=True)\n",
    "df_val = df_val.reset_index(drop=True)\n",
    "df_test = df_test.reset_index(drop=True)"
   ]
  },
  {
   "cell_type": "code",
   "execution_count": 300,
   "id": "5194e9b5",
   "metadata": {},
   "outputs": [],
   "source": [
    "y_train = np.log1p(df_train.price.values)\n",
    "y_val = np.log1p(df_val.price.values)\n",
    "y_test = np.log1p(df_test.price.values)"
   ]
  },
  {
   "cell_type": "code",
   "execution_count": 301,
   "id": "dc5769bc",
   "metadata": {},
   "outputs": [],
   "source": [
    "del df_train['price']\n",
    "del df_val['price']\n",
    "del df_test['price']"
   ]
  },
  {
   "cell_type": "markdown",
   "id": "4bac0db2",
   "metadata": {},
   "source": [
    "## Question3"
   ]
  },
  {
   "cell_type": "code",
   "execution_count": 302,
   "id": "5d95bd52",
   "metadata": {},
   "outputs": [],
   "source": [
    "def rmse(y, y_pred):\n",
    "    se = (y - y_pred) ** 2\n",
    "    mse = se.mean()\n",
    "    return np.sqrt(mse)"
   ]
  },
  {
   "cell_type": "code",
   "execution_count": 303,
   "id": "b024ae8e",
   "metadata": {},
   "outputs": [],
   "source": [
    "def prepare_X(df):\n",
    "    df = df.copy()\n",
    "    df_num = df[base]\n",
    "    df_num = df_num.fillna(0)\n",
    "    X = df_num.values\n",
    "\n",
    "    return X"
   ]
  },
  {
   "cell_type": "code",
   "execution_count": 304,
   "id": "9e5ddb05",
   "metadata": {},
   "outputs": [],
   "source": [
    "def train_linear_regression(X, y):\n",
    "    ones = np.ones(X.shape[0])\n",
    "    X = np.column_stack([ones, X])\n",
    "\n",
    "    XTX = X.T.dot(X)\n",
    "    XTX_inv = np.linalg.inv(XTX)\n",
    "    w_full = XTX_inv.dot(X.T).dot(y)\n",
    "    \n",
    "    return w_full[0], w_full[1:]"
   ]
  },
  {
   "cell_type": "code",
   "execution_count": 305,
   "id": "617d6116",
   "metadata": {},
   "outputs": [],
   "source": [
    "X_train = df_train.fillna(0).values\n",
    "\n",
    "w0, w = train_linear_regression(X_train, y_train)\n",
    "\n",
    "y_pred_fill_zero= w0 + X_train.dot(w)"
   ]
  },
  {
   "cell_type": "code",
   "execution_count": 306,
   "id": "66390891",
   "metadata": {},
   "outputs": [
    {
     "data": {
      "text/plain": [
       "array([4.7827747 , 4.45947456, 4.89702083, ..., 4.82048871, 4.86944871,\n",
       "       4.61612559])"
      ]
     },
     "execution_count": 306,
     "metadata": {},
     "output_type": "execute_result"
    }
   ],
   "source": [
    "y_pred_fill_zero"
   ]
  },
  {
   "cell_type": "code",
   "execution_count": 307,
   "id": "c981e1ee",
   "metadata": {},
   "outputs": [],
   "source": [
    "rmse_fill_zero = rmse(y_train, y_pred_fill_zero)"
   ]
  },
  {
   "cell_type": "code",
   "execution_count": 308,
   "id": "afc04ddf",
   "metadata": {},
   "outputs": [],
   "source": [
    "X_train = df_train.fillna(df.mean()).values\n",
    "\n",
    "w0, w = train_linear_regression(X_train, y_train)\n",
    "\n",
    "y_pred_fill_mean = w0 + X_train.dot(w)"
   ]
  },
  {
   "cell_type": "code",
   "execution_count": 309,
   "id": "65c53411",
   "metadata": {},
   "outputs": [],
   "source": [
    "rmse_fill_mean =rmse(y_train, y_pred_fill_mean)"
   ]
  },
  {
   "cell_type": "code",
   "execution_count": 310,
   "id": "ab3f6040",
   "metadata": {},
   "outputs": [
    {
     "data": {
      "text/plain": [
       "0.64"
      ]
     },
     "execution_count": 310,
     "metadata": {},
     "output_type": "execute_result"
    }
   ],
   "source": [
    "round(rmse_fill_mean, 2)"
   ]
  },
  {
   "cell_type": "code",
   "execution_count": 311,
   "id": "7655ddc0",
   "metadata": {},
   "outputs": [
    {
     "data": {
      "text/plain": [
       "0.64"
      ]
     },
     "execution_count": 311,
     "metadata": {},
     "output_type": "execute_result"
    }
   ],
   "source": [
    "round(rmse_fill_zero, 2)"
   ]
  },
  {
   "cell_type": "markdown",
   "id": "cbc2ff04",
   "metadata": {},
   "source": [
    "## Question4"
   ]
  },
  {
   "cell_type": "code",
   "execution_count": 312,
   "id": "faeaa960",
   "metadata": {},
   "outputs": [
    {
     "name": "stdout",
     "output_type": "stream",
     "text": [
      "0 -419.9126587296756 0.6430337788516729\n",
      "1e-06 -419.86271567381414 0.6430341157473256\n",
      "0.0001 -414.9764924318162 0.6430723153527789\n",
      "0.001 -375.2736527028995 0.6437669735260476\n",
      "0.01 -191.7838405321625 0.6557528427439935\n",
      "0.1 -32.56256055225585 0.6773299642450035\n",
      "1 -3.49921683772884 0.6823116950155351\n",
      "5 -0.7033623160373834 0.6827915727842367\n",
      "10 -0.3512767591669603 0.6828430212097377\n"
     ]
    }
   ],
   "source": [
    "for r in [0, 0.000001, 0.0001, 0.001, 0.01, 0.1, 1, 5, 10]:\n",
    "    X_train = prepare_X(df_train)\n",
    "    w0, w = train_linear_regression_reg(X_train, y_train, r=r)\n",
    "\n",
    "    X_val = prepare_X(df_val)\n",
    "    y_pred = w0 + X_val.dot(w)\n",
    "    score = rmse(y_val, y_pred)\n",
    "    \n",
    "    print(r, w0, score)"
   ]
  },
  {
   "cell_type": "code",
   "execution_count": 313,
   "id": "5a4f513c",
   "metadata": {},
   "outputs": [],
   "source": [
    "def train_linear_regression_reg(X, y, r=0.001):\n",
    "    ones = np.ones(X.shape[0])\n",
    "    X = np.column_stack([ones, X])\n",
    "\n",
    "    XTX = X.T.dot(X)\n",
    "    XTX = XTX + r * np.eye(XTX.shape[0])\n",
    "\n",
    "    XTX_inv = np.linalg.inv(XTX)\n",
    "    w_full = XTX_inv.dot(X.T).dot(y)\n",
    "    \n",
    "    return w_full[0], w_full[1:]"
   ]
  },
  {
   "cell_type": "code",
   "execution_count": 314,
   "id": "32b917a2",
   "metadata": {},
   "outputs": [],
   "source": [
    "base = ['latitude','longitude','minimum_nights','number_of_reviews','reviews_per_month','calculated_host_listings_count','availability_365']"
   ]
  },
  {
   "cell_type": "markdown",
   "id": "d69ffffb",
   "metadata": {},
   "source": [
    "## Question 5"
   ]
  },
  {
   "cell_type": "code",
   "execution_count": 335,
   "id": "6526f6eb",
   "metadata": {},
   "outputs": [
    {
     "name": "stdout",
     "output_type": "stream",
     "text": [
      "[0.648297   0.65658563 0.64609545 0.6421554  0.6344746  0.65129215\n",
      " 0.65234536 0.6398914  0.65529895 0.6312516 ]\n",
      "0.008\n"
     ]
    }
   ],
   "source": [
    "using_df = common_df[features]\n",
    "\n",
    "seed_array = np.array([0, 1, 2, 3, 4, 5, 6, 7, 8, 9])\n",
    "\n",
    "res_score = np.zeros(len(seed_array), dtype='float32')\n",
    "\n",
    "for index, s in np.ndenumerate(seed_array):\n",
    "    np.random.seed(s)\n",
    "    np.random.shuffle(random_set)\n",
    "    \n",
    "    new_df_train = using_df.iloc[random_set[:n_train]]\n",
    "    new_df_val = using_df.iloc[random_set[n_train:n_train+n_val]]\n",
    "    new_df_test = using_df.iloc[random_set[n_train+n_val:]]\n",
    "    \n",
    "    new_df_train = new_df_train.reset_index(drop=True)\n",
    "    new_df_val = new_df_val.reset_index(drop=True)\n",
    "    new_df_test = new_df_test.reset_index(drop=True)\n",
    "    \n",
    "    \n",
    "    new_y_train = np.log1p(new_df_train.price.values)\n",
    "    new_y_val = np.log1p(new_df_val.price.values)\n",
    "    new_y_test = np.log1p(new_df_test.price.values)\n",
    "   \n",
    "    del new_df_train['price']\n",
    "    del new_df_val['price']\n",
    "    del new_df_test['price']\n",
    "    \n",
    "    new_X_train = prepare_X(new_df_train)\n",
    "    \n",
    "    new_w0, new_w = train_linear_regression(new_X_train, new_y_train)\n",
    "    \n",
    "    new_X_val = prepare_X(new_df_val)\n",
    "    \n",
    "    new_y_pred = new_w0 + new_X_val.dot(new_w)\n",
    "    \n",
    "    score =rmse(new_y_val, new_y_pred)\n",
    "    res_score[index]= score\n",
    "    \n",
    "    \n",
    "print(res_score)\n",
    "res = round(np.std(res_score),3)\n",
    "print(res)\n",
    "    "
   ]
  },
  {
   "cell_type": "markdown",
   "id": "1b268b50",
   "metadata": {},
   "source": [
    "## Question6"
   ]
  },
  {
   "cell_type": "code",
   "execution_count": 342,
   "id": "e979bbe0",
   "metadata": {},
   "outputs": [
    {
     "data": {
      "text/plain": [
       "0.7466369159524978"
      ]
     },
     "execution_count": 342,
     "metadata": {},
     "output_type": "execute_result"
    }
   ],
   "source": [
    "using_df = common_df[features]\n",
    "\n",
    "seed = 9\n",
    "\n",
    "np.random.seed(seed)\n",
    "np.random.shuffle(random_set)\n",
    "    \n",
    "q6_df_train = using_df.iloc[random_set[:n_train]]\n",
    "q6_df_val = using_df.iloc[random_set[n_train:n_train+n_val]]\n",
    "q6_df_test = using_df.iloc[random_set[n_train+n_val:]]\n",
    "df_total = pd.concat([q6_df_train, q6_df_val], axis=0)\n",
    "\n",
    "q6_df_test = q6_df_test.reset_index(drop=True)\n",
    "\n",
    "y_total = np.log1p(df_total.pop('price'))\n",
    "q6_y_test = np.log1p(q6_df_test.pop('price'))\n",
    "\n",
    "X_common = prepare_X(df_total)\n",
    "X_test = prepare_X(q6_df_test)\n",
    "\n",
    "w0, w = train_linear_regression_reg(X_common, y_total, r=0.001)\n",
    "\n",
    "\n",
    "y_pred = w0 + q6_df_test.dot(w)\n",
    "score = rmse(y_test, y_pred)   \n",
    "score    "
   ]
  },
  {
   "cell_type": "code",
   "execution_count": null,
   "id": "1840ef1b",
   "metadata": {},
   "outputs": [],
   "source": []
  },
  {
   "cell_type": "code",
   "execution_count": null,
   "id": "3d79b2ee",
   "metadata": {},
   "outputs": [],
   "source": []
  },
  {
   "cell_type": "code",
   "execution_count": null,
   "id": "0e705cf8",
   "metadata": {},
   "outputs": [],
   "source": []
  },
  {
   "cell_type": "code",
   "execution_count": null,
   "id": "4065ebe4",
   "metadata": {},
   "outputs": [],
   "source": []
  }
 ],
 "metadata": {
  "kernelspec": {
   "display_name": "Python 3",
   "language": "python",
   "name": "python3"
  },
  "language_info": {
   "codemirror_mode": {
    "name": "ipython",
    "version": 3
   },
   "file_extension": ".py",
   "mimetype": "text/x-python",
   "name": "python",
   "nbconvert_exporter": "python",
   "pygments_lexer": "ipython3",
   "version": "3.9.2"
  }
 },
 "nbformat": 4,
 "nbformat_minor": 5
}
