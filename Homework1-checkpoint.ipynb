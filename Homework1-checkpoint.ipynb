{
 "cells": [
  {
   "cell_type": "code",
   "execution_count": 1,
   "id": "400cf9ef",
   "metadata": {},
   "outputs": [
    {
     "data": {
      "text/html": [
       "<style>svg{width: 40% !important; height: 40% !important;} </style>"
      ],
      "text/plain": [
       "<IPython.core.display.HTML object>"
      ]
     },
     "execution_count": 1,
     "metadata": {},
     "output_type": "execute_result"
    }
   ],
   "source": [
    "import pandas as pd\n",
    "import numpy as np\n",
    "from sklearn import tree\n",
    "from sklearn.metrics import accuracy_score\n",
    "%matplotlib inline\n",
    "import matplotlib.pyplot as plt\n",
    "import seaborn as sns\n",
    "from IPython.display import SVG\n",
    "from graphviz import Source\n",
    "from IPython.display import display\n",
    "from IPython.display import HTML\n",
    "style = \"<style>svg{width: 40% !important; height: 40% !important;} </style>\"\n",
    "HTML(style)"
   ]
  },
  {
   "cell_type": "markdown",
   "id": "aa5c84ad",
   "metadata": {},
   "source": [
    "\n",
    "### Question 1\n"
   ]
  },
  {
   "cell_type": "code",
   "execution_count": null,
   "id": "d2c01b60",
   "metadata": {},
   "outputs": [],
   "source": [
    "np.__version__"
   ]
  },
  {
   "cell_type": "markdown",
   "id": "e826ce54",
   "metadata": {},
   "source": [
    "### Question 2"
   ]
  },
  {
   "cell_type": "code",
   "execution_count": 3,
   "id": "feb066ad",
   "metadata": {},
   "outputs": [
    {
     "data": {
      "text/plain": [
       "'1.2.3'"
      ]
     },
     "execution_count": 3,
     "metadata": {},
     "output_type": "execute_result"
    }
   ],
   "source": [
    "pd.__version__"
   ]
  },
  {
   "cell_type": "markdown",
   "id": "8fbb20ea",
   "metadata": {},
   "source": [
    "### Question 3"
   ]
  },
  {
   "cell_type": "code",
   "execution_count": 4,
   "id": "5831fe8c",
   "metadata": {},
   "outputs": [],
   "source": [
    "car_data = pd.read_csv('https://raw.githubusercontent.com/alexeygrigorev/mlbookcamp-code/master/chapter-02-car-price/data.csv')"
   ]
  },
  {
   "cell_type": "code",
   "execution_count": 6,
   "id": "12746e7c",
   "metadata": {},
   "outputs": [],
   "source": [
    "avgBMWPrice = car_data.loc[car_data.Make == 'BMW'].agg({'MSRP': 'mean'})"
   ]
  },
  {
   "cell_type": "markdown",
   "id": "f69deac4",
   "metadata": {},
   "source": [
    "### Question 4-5"
   ]
  },
  {
   "cell_type": "code",
   "execution_count": 7,
   "id": "3cdd42c1",
   "metadata": {},
   "outputs": [],
   "source": [
    "newCarSet = car_data.loc[car_data.Year >= 2015, \"Engine HP\"].isna().sum()"
   ]
  },
  {
   "cell_type": "code",
   "execution_count": 8,
   "id": "f3858d51",
   "metadata": {},
   "outputs": [],
   "source": [
    "mean_hp_before = round(car_data[\"Engine HP\"].mean())"
   ]
  },
  {
   "cell_type": "code",
   "execution_count": 9,
   "id": "b9ac282b",
   "metadata": {},
   "outputs": [],
   "source": [
    "car_data[\"Engine HP\"] = car_data[\"Engine HP\"].fillna(value=0)"
   ]
  },
  {
   "cell_type": "code",
   "execution_count": 22,
   "id": "f9854e8c",
   "metadata": {},
   "outputs": [],
   "source": [
    "mean_hp_after =round(car_data[\"Engine HP\"].mean())"
   ]
  },
  {
   "cell_type": "markdown",
   "id": "bd92723d",
   "metadata": {},
   "source": [
    "### Question 6"
   ]
  },
  {
   "cell_type": "code",
   "execution_count": 11,
   "id": "8eb8ea58",
   "metadata": {},
   "outputs": [],
   "source": [
    "rolls_royce = car_data.loc[car_data.Make == \"Rolls-Royce\", [\"Engine HP\", \"Engine Cylinders\", \"highway MPG\"]]"
   ]
  },
  {
   "cell_type": "code",
   "execution_count": 12,
   "id": "99ef73b3",
   "metadata": {},
   "outputs": [],
   "source": [
    "dfWithoutDuplicate = rolls_royce.drop_duplicates()"
   ]
  },
  {
   "cell_type": "code",
   "execution_count": 13,
   "id": "d192f2fb",
   "metadata": {},
   "outputs": [],
   "source": [
    "X = dfWithoutDuplicate.to_numpy()"
   ]
  },
  {
   "cell_type": "code",
   "execution_count": 14,
   "id": "93a6c1a2",
   "metadata": {},
   "outputs": [],
   "source": [
    "XT = X.transpose()"
   ]
  },
  {
   "cell_type": "code",
   "execution_count": 15,
   "id": "20416379",
   "metadata": {},
   "outputs": [],
   "source": [
    "XTX = np.dot(XT, X)"
   ]
  },
  {
   "cell_type": "code",
   "execution_count": 16,
   "id": "caa918fc",
   "metadata": {},
   "outputs": [],
   "source": [
    "inverse = np.linalg.inv(XTX)"
   ]
  },
  {
   "cell_type": "code",
   "execution_count": 17,
   "id": "d896306e",
   "metadata": {},
   "outputs": [
    {
     "data": {
      "text/plain": [
       "0.032212320677486125"
      ]
     },
     "execution_count": 17,
     "metadata": {},
     "output_type": "execute_result"
    }
   ],
   "source": [
    "np.sum(inverse)"
   ]
  },
  {
   "cell_type": "markdown",
   "id": "dbcc3f07",
   "metadata": {},
   "source": [
    "### Question 7"
   ]
  },
  {
   "cell_type": "code",
   "execution_count": 18,
   "id": "73d56f83",
   "metadata": {},
   "outputs": [],
   "source": [
    "y = np.array([[1000], [1100], [900], [1200], [1000], [850], [1300]])"
   ]
  },
  {
   "cell_type": "code",
   "execution_count": 19,
   "id": "a3e636b6",
   "metadata": {},
   "outputs": [],
   "source": [
    "IXTTX = np.dot(inverse, XT)"
   ]
  },
  {
   "cell_type": "code",
   "execution_count": 20,
   "id": "164da620",
   "metadata": {},
   "outputs": [],
   "source": [
    "YX = np.dot(IXTTX, y)"
   ]
  },
  {
   "cell_type": "code",
   "execution_count": null,
   "id": "6e732ec5",
   "metadata": {},
   "outputs": [],
   "source": [
    "YX.item(0)"
   ]
  }
 ],
 "metadata": {
  "kernelspec": {
   "display_name": "Python 3",
   "language": "python",
   "name": "python3"
  },
  "language_info": {
   "codemirror_mode": {
    "name": "ipython",
    "version": 3
   },
   "file_extension": ".py",
   "mimetype": "text/x-python",
   "name": "python",
   "nbconvert_exporter": "python",
   "pygments_lexer": "ipython3",
   "version": "3.9.2"
  }
 },
 "nbformat": 4,
 "nbformat_minor": 5
}
